{
 "cells": [
  {
   "cell_type": "code",
   "execution_count": null,
   "metadata": {},
   "outputs": [],
   "source": [
    "#reading the file\n",
    "import pandas as pd\n",
    "df=pd.read_csv(\"Q1_property.csv\", delimiter=\";\")\n",
    "df"
   ]
  },
  {
   "cell_type": "code",
   "execution_count": null,
   "metadata": {},
   "outputs": [],
   "source": [
    "df.dropna(subset=['price'], inplace=True)\n",
    "df.dropna(subset=['location'], inplace=True)\n",
    "df.dropna(subset=['city'], inplace=True)\n",
    "df.dropna(subset=['province_name'], inplace=True)\n",
    "df.dropna(subset=['latitude'], inplace=True)\n",
    "df.dropna(subset=['longitude'], inplace=True)\n",
    "df.dropna(subset=['property_id'], inplace=True)\n",
    "df.dropna(subset=['location_id'], inplace=True)\n",
    "df.dropna(subset=['page_url'], inplace=True)\n",
    "df.dropna(subset=['property_type'], inplace=True)\n",
    "df.dropna(subset=['baths'], inplace=True)\n",
    "df.dropna(subset=['area'], inplace=True)\n",
    "df.dropna(subset=['bedrooms'], inplace=True)\n",
    "df.dropna(subset=['date_added'], inplace=True)\n",
    "df.dropna(subset=['agency'], inplace=True)\n",
    "df.dropna(subset=['agent'], inplace=True)\n",
    "df"
   ]
  },
  {
   "cell_type": "code",
   "execution_count": null,
   "metadata": {},
   "outputs": [],
   "source": [
    "#identifying outliers\n",
    "print(\"Outliers in Price\")\n",
    "print(\" \")\n",
    "#calculating outliers in evry column\n",
    "col=df[\"price\"]\n",
    "q1=col.quantile(0.25)\n",
    "q3=col.quantile(0.75)\n",
    "#calculating the quartiles \n",
    "iqr=q3-q1\n",
    "x=iqr*1.5\n",
    "y1=q1-x\n",
    "y2=q3+x\n",
    "#calculating the limits for the range \n",
    "for x, val in enumerate(df[\"price\"]):\n",
    "    if val<=y1 or val>=y2:#displaying the ids that aren't in range \n",
    "        print(df[\"property_id\"].iloc[x])\n",
    "        "
   ]
  },
  {
   "cell_type": "code",
   "execution_count": null,
   "metadata": {},
   "outputs": [],
   "source": [
    "import seaborn as sns\n",
    "import matplotlib.pyplot as plt\n",
    "#identifying correlation\n",
    "correlation_matrix = df.corr()\n",
    "\n",
    "# Plot a heatmap to visualize the correlation matrix\n",
    "plt.figure(figsize=(10, 8))\n",
    "sns.heatmap(correlation_matrix, annot=True, cmap='coolwarm', fmt=\".2f\", linewidths=.5)\n",
    "plt.title('Correlation Matrix Heatmap')\n",
    "plt.show()"
   ]
  },
  {
   "cell_type": "code",
   "execution_count": null,
   "metadata": {},
   "outputs": [],
   "source": [
    "#identifying correlation in average property prices and number of properties\n",
    "average_price_by_agency = df.groupby(\"agency\")[\"price\"].mean()\n",
    "average_price_by_agent = df.groupby(\"agent\")[\"price\"].mean()\n",
    "# Now, you can calculate the correlation between the average prices and the number of properties\n",
    "correlation_coefficient1 = average_price_by_agency.corr(df.groupby(\"agency\").size())\n",
    "correlation_coefficient2 = average_price_by_agent.corr(df.groupby(\"agent\").size())\n",
    "print(\"Correlation between average price and number of properties for agency:\", correlation_coefficient1)\n",
    "print(\"Correlation between average price and number of properties for agent:\", correlation_coefficient2)"
   ]
  },
  {
   "cell_type": "code",
   "execution_count": null,
   "metadata": {},
   "outputs": [],
   "source": [
    "#making new column of price per square meter\n",
    "#df['price_per_sqm'] = df['price'] / df['area']\n",
    "#making the three new columns seperately of date\n",
    "df['date_added'] = pd.to_datetime(df['date_added'], errors='coerce')\n",
    "df['month_added'] = df['date_added'].dt.month\n",
    "df['quarter_added'] = df['date_added'].dt.quarter\n",
    "df['day_of_week_added'] = df['date_added'].dt.dayofweek\n",
    "#standardizing the numerical columns\n",
    "df['price'] = df['price'].round(0)\n",
    "df['latitude'] = df['latitude'].round(0)\n",
    "df['longitude'] = df['longitude'].round(0)\n",
    "#no encoding\n",
    "df"
   ]
  },
  {
   "cell_type": "code",
   "execution_count": null,
   "metadata": {},
   "outputs": [],
   "source": [
    "# Import necessary libraries\n",
    "from sklearn.linear_model import LinearRegression\n",
    "import pandas as pd\n",
    "\n",
    "# Specify the predictor variables (features) and the output variable\n",
    "predictors = ['latitude', 'longitude']\n",
    "X = df[predictors]  # X is the matrix of features\n",
    "y = df['price']  # y is the target variable\n",
    "\n",
    "# Initialize a Linear Regression model\n",
    "lm = LinearRegression()\n",
    "\n",
    "# Fit the Linear Regression model using the training data\n",
    "model = lm.fit(X, y)\n",
    "\n",
    "# Make predictions using the trained model on the input data (X)\n",
    "predictions = model.predict(X)\n",
    "\n",
    "# Print or use the predictions as needed\n",
    "print(predictions)\n"
   ]
  },
  {
   "cell_type": "code",
   "execution_count": null,
   "metadata": {},
   "outputs": [],
   "source": [
    "# Import necessary libraries\n",
    "from sklearn.model_selection import train_test_split\n",
    "from sklearn.metrics import mean_absolute_error, mean_squared_error, mean_absolute_percentage_error\n",
    "from math import sqrt\n",
    "\n",
    "# Make predictions using the trained model on the test set (X)\n",
    "y_pred = model.predict(X)\n",
    "\n",
    "# Calculate Mean Absolute Error (MAE)\n",
    "mae = mean_absolute_error(y, y_pred)\n",
    "\n",
    "# Calculate Mean Squared Error (MSE)\n",
    "mse = mean_squared_error(y, y_pred)\n",
    "\n",
    "# Calculate Root Mean Squared Error (RMSE)\n",
    "rmse = sqrt(mse)\n",
    "\n",
    "# Calculate Mean Absolute Percentage Error (MAPE)\n",
    "mape = mean_absolute_percentage_error(y, y_pred)\n",
    "\n",
    "# Print the evaluation metrics\n",
    "print('Mean Absolute Error (MAE):', mae)\n",
    "print('Mean Squared Error (MSE):', mse)\n",
    "print('Root Mean Squared Error (RMSE):', rmse)\n",
    "print('Mean Absolute Percentage Error (MAPE):', mape)\n"
   ]
  }
 ],
 "metadata": {
  "language_info": {
   "name": "python"
  }
 },
 "nbformat": 4,
 "nbformat_minor": 2
}
